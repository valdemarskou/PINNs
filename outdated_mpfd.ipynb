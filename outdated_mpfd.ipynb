{
 "cells": [
  {
   "cell_type": "code",
   "execution_count": 44,
   "metadata": {},
   "outputs": [],
   "source": [
    "%matplotlib widget\n",
    "\n",
    "\n",
    "import meshplot as mp\n",
    "import numpy as np\n",
    "import matplotlib.pyplot as plt\n",
    "from mpl_toolkits import mplot3d\n",
    "import torch"
   ]
  },
  {
   "cell_type": "code",
   "execution_count": 45,
   "metadata": {},
   "outputs": [],
   "source": [
    "### Havercamp model parameters and initial condition & boundary conditions ###\n",
    "\n",
    "alpha = 1.611*(10**6)\n",
    "theta_s = 0.287\n",
    "theta_r = 0.075\n",
    "beta = 3.96\n",
    "k_s = 0.00944\n",
    "A = 1.175*(10**6)\n",
    "gamma = 4.74\n",
    "\n",
    "def compute_phi(h):\n",
    "    return (alpha*(theta_s-theta_r))/(alpha + torch.abs(h)**beta) + theta_r\n",
    "\n",
    "def compute_k(h):\n",
    "    return (k_s * A)/(A + torch.abs(h)**gamma)\n",
    "\n",
    "def compute_c(h):\n",
    "    return (alpha*(theta_s - theta_r)*beta*(torch.abs(h)**(beta-1)))/((alpha+torch.abs(h)**beta)**2)\n",
    "    #compute_phi(h).backward(torch.ones_like(h))\n",
    "    #return h.grad\n",
    "\n",
    "\n",
    "\n",
    "h_top = -20.7\n",
    "h_bottom = -61.5\n",
    "h_initial = -61.5"
   ]
  },
  {
   "cell_type": "code",
   "execution_count": 46,
   "metadata": {},
   "outputs": [],
   "source": [
    "### Grid setup ###\n",
    "\n",
    "# Boundary points\n",
    "xFirst = 0\n",
    "xLast = 40\n",
    "\n",
    "# Spatial discretization\n",
    "N = 40\n",
    "dx = (xLast-xFirst)/N\n",
    "\n",
    "x = torch.zeros(N+1)\n",
    "for i in range(0,N+1):\n",
    "    x[i] = xFirst + i*dx\n",
    "#x.requires_grad = True\n"
   ]
  },
  {
   "cell_type": "code",
   "execution_count": 47,
   "metadata": {},
   "outputs": [],
   "source": [
    "### Defining matrix and source vector for solving linear system ###\n",
    "\n",
    "def mat_and_r(C,K,phi,phi_last_time,H,dt,dx):\n",
    "    N = H.size(0)-1\n",
    "    mat = torch.zeros((N+1,N+1))\n",
    "    mat[0,0] = 1\n",
    "    mat[N,N] = 1\n",
    "\n",
    "    for i in range(1,N):\n",
    "        mat[i,i] = C[i]/dt + (K[i]+K[i]+K[i-1]+K[i+1])/(2*dx*dx)\n",
    "        mat[i,i-1] = -(K[i]+K[i-1])/(2*dx*dx)\n",
    "        mat[i,i+1] = -(K[i]+K[i+1])/(2*dx*dx)\n",
    "    \n",
    "    r = torch.zeros(N+1)\n",
    "    for i in range(1,N):\n",
    "        r[i] = ((K[i]+K[i+1])*(H[i+1]-H[i]) - (K[i]+K[i-1])*(H[i]-H[i-1]))/(2*dx*dx) + (K[i+1]-K[i-1])/(2*dx) - (phi[i]-phi_last_time[i])/dt\n",
    "    \n",
    "    #r = r.flip(dims=[0])\n",
    "\n",
    "    return mat,r"
   ]
  },
  {
   "cell_type": "code",
   "execution_count": 48,
   "metadata": {},
   "outputs": [],
   "source": [
    "### Update scheme ###\n",
    "\n",
    "\n",
    "def h_from_delta(delta,h_m):\n",
    "    H = torch.zeros(h_m.size(0))\n",
    "    for i in range(1,h_m.size(0)):\n",
    "        H[i] = delta[i] + h_m[i]\n",
    "    H[0] = h_top\n",
    "    H[-1] = h_bottom\n",
    "    return H\n",
    "\n",
    "def iteration_scheme(h_m,phi_last_time,num_iterations,dt,dx):\n",
    "    for iterations in range(num_iterations):\n",
    "        phi_m,c_m,k_m = compute_phi(h_m),compute_c(h_m),compute_k(h_m)\n",
    "        mat,r = mat_and_r(c_m,k_m,phi_m,phi_last_time,h_m,dt,dx)\n",
    "        #print(iterations,\"\\n\\n\",phi_m)\n",
    "        delta = torch.linalg.solve(mat,r)\n",
    "        #print(iterations,\"\\n\\n\",delta)\n",
    "        h_m_next = h_from_delta(delta,h_m)\n",
    "        #print(iterations,\"\\n\\n\",h_m_next)\n",
    "        h_m = h_m_next.detach()\n",
    "        h_m.requires_grad = True\n",
    "\n",
    "    return h_m_next\n",
    "\n",
    "\n",
    "def mpfd_solver(h0,num_iterations,T,dt,dx):\n",
    "    h_last_time = h0\n",
    "    phi_last_time = compute_phi(h0)\n",
    "    t = 0.0\n",
    "\n",
    "    result=[]\n",
    "    result.append(h_last_time)\n",
    "\n",
    "    while(t<T):\n",
    "        h_next_time = iteration_scheme(h_last_time,phi_last_time,num_iterations,dt,dx)\n",
    "        h_last_time = h_next_time.detach()\n",
    "        h_last_time.requires_grad = True\n",
    "        phi_last_time = compute_phi(h_last_time)\n",
    "        t = t+dt\n",
    "        result.append(h_last_time)\n",
    "        #print(t,\"\\n\",h_last_time)\n",
    "    \n",
    "    return result"
   ]
  },
  {
   "cell_type": "code",
   "execution_count": 55,
   "metadata": {},
   "outputs": [],
   "source": [
    "h0 = h_initial * torch.ones(N+1)\n",
    "h0[0] = -20.7\n",
    "h0.requires_grad = True\n",
    "c0,phi0,k0 = compute_c(h0),compute_phi(h0),compute_k(h0)\n",
    "\n",
    "\n",
    "test = mpfd_solver(h0,20,360,30,dx)[-1]\n",
    "\n",
    "\n",
    "\n",
    "\n",
    "\n",
    "#test2 = mpfd_solver(h0,20,360,30)\n",
    "#print(test2)\n",
    "#test3 = mpfd_solver(h0,20,360,10)\n",
    "#print(test3)\n",
    "\n",
    "\n"
   ]
  },
  {
   "cell_type": "code",
   "execution_count": 50,
   "metadata": {},
   "outputs": [],
   "source": [
    "### Mass-balance formula ###\n",
    "\n",
    "\n",
    "def mass_balance():\n",
    "\n",
    "    return None"
   ]
  },
  {
   "cell_type": "code",
   "execution_count": 51,
   "metadata": {},
   "outputs": [
    {
     "ename": "NameError",
     "evalue": "name 'test' is not defined",
     "output_type": "error",
     "traceback": [
      "\u001b[1;31m---------------------------------------------------------------------------\u001b[0m",
      "\u001b[1;31mNameError\u001b[0m                                 Traceback (most recent call last)",
      "Cell \u001b[1;32mIn[51], line 3\u001b[0m\n\u001b[0;32m      1\u001b[0m \u001b[38;5;66;03m### Plotting environment ###\u001b[39;00m\n\u001b[0;32m      2\u001b[0m xFinal \u001b[38;5;241m=\u001b[39m x\u001b[38;5;241m.\u001b[39mdetach()\u001b[38;5;241m.\u001b[39mnumpy()\n\u001b[1;32m----> 3\u001b[0m hFinal \u001b[38;5;241m=\u001b[39m \u001b[43mtest\u001b[49m[\u001b[38;5;241m-\u001b[39m\u001b[38;5;241m1\u001b[39m]\u001b[38;5;241m.\u001b[39mdetach()\u001b[38;5;241m.\u001b[39mnumpy()\n\u001b[0;32m      4\u001b[0m \u001b[38;5;66;03m#hFinal2 = test2.detach().numpy()\u001b[39;00m\n\u001b[0;32m      5\u001b[0m \u001b[38;5;66;03m#hFinal3 = test3.detach().numpy()\u001b[39;00m\n\u001b[0;32m      7\u001b[0m plt\u001b[38;5;241m.\u001b[39mfigure(figsize\u001b[38;5;241m=\u001b[39m(\u001b[38;5;241m10\u001b[39m, \u001b[38;5;241m6\u001b[39m))  \u001b[38;5;66;03m# Optional: Specifies the figure size\u001b[39;00m\n",
      "\u001b[1;31mNameError\u001b[0m: name 'test' is not defined"
     ]
    }
   ],
   "source": [
    "### Plotting environment ###\n",
    "xFinal = x.detach().numpy()\n",
    "hFinal = test[-1].detach().numpy()\n",
    "#hFinal2 = test2.detach().numpy()\n",
    "#hFinal3 = test3.detach().numpy()\n",
    "\n",
    "plt.figure(figsize=(10, 6))  # Optional: Specifies the figure size\n",
    "plt.plot(xFinal, hFinal,color='blue')\n",
    "#plt.plot(xFinal, hFinal2,color='red')\n",
    "#plt.plot(xFinal, hFinal3,color='green')\n",
    "\n",
    "\n",
    "plt.grid(True)"
   ]
  },
  {
   "cell_type": "code",
   "execution_count": null,
   "metadata": {},
   "outputs": [
    {
     "data": {
      "application/vnd.jupyter.widget-view+json": {
       "model_id": "6ed2c0d0d830427285021fdb4ca98bfb",
       "version_major": 2,
       "version_minor": 0
      },
      "image/png": "[encoded data removed]",
      "text/html": [
       "\n",
       "            <div style=\"display: inline-block;\">\n",
       "                <div class=\"jupyter-widgets widget-label\" style=\"text-align: center;\">\n",
       "                    Figure\n",
       "                </div>\n",
       "                <img src='data:image/png;base64,iVBORw0KGgoAAAANSUhEUgAAAoAAAAHgCAYAAAA10dzkAAAAOXRFWHRTb2Z0d2FyZQBNYXRwbG90bGliIHZlcnNpb24zLjguNCwgaHR0cHM6Ly9tYXRwbG90bGliLm9yZy8fJSN1AAAACXBIWXMAAA9hAAAPYQGoP6dpAAA6SklEQVR4nO3deXxU5d3///dAyLAlYc8CMQYIyhZkE4LFBIQItSiiFotCAKUgSEHgZnMhLiWISilFcI+40GBV0BYFUjFBb0BZQomA3qhBUBJSAyQhQIBwfn/4Y74OSSBAMmcy1+v5eJxHmeucOfOZq3h8e53rXOOwLMsSAAAAjFHD7gIAAADgWQRAAAAAwxAAAQAADEMABAAAMAwBEAAAwDAEQAAAAMMQAAEAAAxDAAQAADAMARAAAMAwBEAAAADDEAABAAAMQwAEAAAwDAEQAADAMARAwIe8/vrrcjgcZW7Tpk3Tvn375HA49Prrr5d6z759+1xtI0eO1NVXX+3x+iVpyZIlbvWdc/DgQSUmJmrHjh0er6kynTp1SuPGjVNoaKhq1qyp6667zu6SLrtv7fx7AuDK+NldAIDKl5ycrGuvvdatLSwsTMHBwdq0aZNatWplU2UXt2TJEjVp0kQjR450az948KAef/xxXX311V4Rmi7X0qVL9eKLL+pvf/ubunbtqvr169td0mX37aOPPqpJkyZVXWEAqgwBEPBBHTp0ULdu3crc17NnTw9X491OnDih2rVry+FweOTzvvrqK9WpU0cPPvigRz6vKhw/flx169b16v+QAHBh3AIGDFLWLeArERcXpw4dOuizzz5Tz549VadOHTVv3lyPPvqoSkpK3I59/PHH1aNHDzVq1EiBgYHq0qWLXn31VVmW5Trm6quv1q5du5Senu66dX311VcrLS1N3bt3lySNGjXKtS8xMdH13q1bt+rWW29Vo0aNVLt2bXXu3FnvvPOOWw3nbnevW7dOo0ePVtOmTVW3bl0VFxe7vsuWLVvUu3dv1a1bVy1bttS8efN09uzZi/bFyZMnNWvWLEVGRsrf31/NmzfXhAkTdPToUdcxDodDr7zyik6cOOH6Dhf6/+JcTZs2bVKvXr1Up04dXX311UpOTpYkrV69Wl26dFHdunXVsWNHrVmzxu393377rUaNGqWoqCjVrVtXzZs316BBg5SZmek65mJ9O3LkSNWvX1+ZmZmKj49XQECAbrrpJte+X98CTklJkcPh0OLFi93qmDNnjmrWrKnU1NSL9iMAz2AEEPBBJSUlOnPmjFubn1/V/OOek5Oju+++WzNnztQTTzyh1atX66mnntKRI0fcgsC+ffs0duxYXXXVVZKkzZs3a+LEifrpp5/02GOPSZJWrlypO++8U0FBQVqyZIkkyel0qlWrVkpOTtaoUaP0yCOP6JZbbpEktWjRQpL06aefasCAAerRo4deeOEFBQUFKSUlRUOHDtXx48dL3U4ePXq0brnlFr355psqKipSrVq1XN/lnnvu0dSpUzVnzhytXLlSs2bNUlhYmEaMGFFuH1iWpcGDB+uTTz7RrFmz1Lt3b+3cuVNz5szRpk2btGnTJjmdTm3atElPPvmkPv30U61fv16SLjqKlpOTo1GjRmn69Olq0aKF/va3v2n06NE6cOCA3n33Xc2ePVtBQUF64oknNHjwYH3//fcKCwuT9Mut3caNG2vevHlq2rSpDh8+rGXLlqlHjx7KyMjQNddcoy5dulywb6Vf5i3eeuutGjt2rGbOnFnq79Y5d999t9LT0zV16lT17NlT3bp10/r16/XUU09p9uzZ6t+//wW/KwAPsgD4jOTkZEtSmdvp06etrKwsS5KVnJxc6j1ZWVmutoSEBCsiIuKinxcbG2tJsj744AO39jFjxlg1atSwfvjhhzLfV1JSYp0+fdp64oknrMaNG1tnz5517Wvfvr0VGxtb6j1btmwpVfs51157rdW5c2fr9OnTbu2/+93vrNDQUKukpMTtu44YMaLc7/LFF1+4tbdr1866+eaby/we56xZs8aSZM2fP9+tfcWKFZYk66WXXnK1JSQkWPXq1bvg+c6vaevWra62vLw8q2bNmladOnWsn376ydW+Y8cOS5K1aNGics935swZ69SpU1ZUVJT10EMPudov1LcJCQmWJOu1114rc9/5f09Onjxpde7c2YqMjLR2795tBQcHW7GxsdaZM2cq9J0BeAa3gAEf9MYbb2jLli1uW1WNAAYEBOjWW291axs2bJjOnj2rDRs2uNrWr1+vfv36KSgoSDVr1lStWrX02GOPKS8vT7m5uZf9+d9++62+/vpr3XPPPZKkM2fOuLbf/va3ys7O1jfffOP2njvuuKPMc4WEhOj66693a4uOjtYPP/xwwRrOjeadP9J41113qV69evrkk08u5Su5CQ0NVdeuXV2vGzVqpGbNmum6665zjfRJUtu2bSXJrdYzZ85o7ty5ateunfz9/eXn5yd/f3/t3btXe/bsuaQ6yuuz8zmdTr3zzjvKy8tTly5dZFmW/v73v6tmzZqX9HkAqha3gAEf1LZt23IfAqlswcHBpdpCQkIkSXl5eZKkL7/8UvHx8YqLi9PLL7+sFi1ayN/fX6tWrdKf//xnnThx4rI//9ChQ5KkadOmadq0aWUe8/PPP7u9Dg0NLfO4xo0bl2pzOp0XrS8vL09+fn5q2rSpW7vD4VBISIirHy5Ho0aNSrX5+/uXavf395f0y1zEc6ZMmaLnn39eM2bMUGxsrBo2bKgaNWro/vvvv6Q+r1u3rgIDAyt8fOvWrdW7d2+tXr1aDzzwQLn9DcA+BEAAV+RcAPu1nJwcSf8vUKWkpKhWrVr617/+pdq1a7uOW7Vq1RV/fpMmTSRJs2bN0pAhQ8o85pprrnF7XdlP/DZu3FhnzpzRf//7X7cQaFmWcnJyXA9ZeNpbb72lESNGaO7cuW7tP//8sxo0aFDh81xqf73yyitavXq1rr/+ei1evFhDhw5Vjx49LukcAKoWt4ABXJHCwkJ9+OGHbm3Lly9XjRo1dOONN0r6JUD4+fm53QY8ceKE3nzzzVLnK2/Ezel0ut73a9dcc42ioqL0n//8R926dStzCwgIuOLveSHnnop966233Nrfe+89FRUVufZ7msPhcPXbOatXr9ZPP/3k1lZe316OzMxM/elPf9KIESP02WefKTo6WkOHDtWRI0eu+NwAKg8jgACuSOPGjfXAAw9o//79atOmjT766CO9/PLLeuCBB1xP/N5yyy1asGCBhg0bpj/+8Y/Ky8vTs88+WyqcSFLHjh2VkpKiFStWqGXLlqpdu7Y6duyoVq1aqU6dOnr77bfVtm1b1a9fX2FhYQoLC9OLL76ogQMH6uabb9bIkSPVvHlzHT58WHv27NH27dv1j3/8o0r7oH///rr55ps1Y8YMFRQU6IYbbnA9Bdy5c2cNHz68Sj+/PL/73e/0+uuv69prr1V0dLS2bdumZ555xu0JX0kX7NtLUVRUpN///veKjIzUkiVL5O/vr3feeUddunTRqFGjKmXEF0DlYAQQwBUJCQnR8uXLtWzZMt1666165513NHv2bC1atMh1TN++ffXaa68pMzNTgwYN0sMPP6w777xTM2fOLHW+xx9/XLGxsRozZoyuv/56DRo0SNIv89Bee+015eXlKT4+Xt27d9dLL70kSerTp4++/PJLNWjQQJMnT1a/fv30wAMP6N///rf69etX5X3gcDi0atUqTZkyRcnJyfrtb3+rZ599VsOHD9f69evLDLqe8Ne//lX33nuvkpKSNGjQIH344Yd6//33Sy09c6G+vRTjxo3T/v379Y9//EP16tWTJLVs2VKvvPKKPvjgAy1cuLAyvhaASuCwrF+twgoAlyAuLk4///yzvvrqK7tLAQBcAkYAAQAADEMABAAAMAy3gAEAAAzDCCAAAIBhCIAAAACGIQACAAAYhgAIAABgGAIgAACAYQiAqBRLlixRZGSkateura5du+qzzz6zu6RyJSYmyuFwuG0hISF2l1XKhg0bNGjQIIWFhbl+aeLXLMtSYmKiwsLCVKdOHcXFxWnXrl32FPv/u1jNI0eOLNX3PXv2tKdYSUlJSerevbsCAgLUrFkzDR48WN98843bMd7WzxWp2dv6eenSpYqOjlZgYKACAwMVExOjjz/+2LXf2/pYunjN3tbHZUlKSpLD4dDkyZNdbd7Y17AHARBXbMWKFZo8ebIefvhhZWRkqHfv3ho4cKD2799vd2nlat++vbKzs11bZmam3SWVUlRUpE6dOmnx4sVl7p8/f74WLFigxYsXa8uWLQoJCVH//v1VWFjo4Ur/n4vVLEkDBgxw6/uPPvrIgxW6S09P14QJE7R582alpqbqzJkzio+PV1FRkesYb+vnitQseVc/t2jRQvPmzdPWrVu1detW9e3bV7fddpsreHhbH1ekZsm7+vh8W7Zs0UsvvaTo6Gi3dm/sa9jEAq7Q9ddfb40bN86t7dprr7VmzpxpU0UXNmfOHKtTp052l3FJJFkrV650vT579qwVEhJizZs3z9V28uRJKygoyHrhhRdsqLC082u2LMtKSEiwbrvtNlvqqYjc3FxLkpWenm5ZVvXo5/Nrtizv72fLsqyGDRtar7zySrXo43PO1WxZ3t3HhYWFVlRUlJWammrFxsZakyZNsiyrevx9hucwAogrcurUKW3btk3x8fFu7fHx8dq4caNNVV3c3r17FRYWpsjISN199936/vvv7S7pkmRlZSknJ8et351Op2JjY7263yUpLS1NzZo1U5s2bTRmzBjl5ubaXZJLfn6+JKlRo0aSqkc/n1/zOd7azyUlJUpJSVFRUZFiYmKqRR+fX/M53trHEyZM0C233KJ+/fq5tVeHvobn+NldAKq3n3/+WSUlJQoODnZrDw4OVk5Ojk1VXViPHj30xhtvqE2bNjp06JCeeuop9erVS7t27VLjxo3tLq9CzvVtWf3+ww8/2FFShQwcOFB33XWXIiIilJWVpUcffVR9+/bVtm3b5HQ6ba3NsixNmTJFv/nNb9ShQwdJ3t/PZdUseWc/Z2ZmKiYmRidPnlT9+vW1cuVKtWvXzhU8vLGPy6tZ8s4+lqSUlBRt375dW7ZsKbXP2/8+w7MIgKgUDofD7bVlWaXavMXAgQNdf+7YsaNiYmLUqlUrLVu2TFOmTLGxsktXnfpdkoYOHer6c4cOHdStWzdFRERo9erVGjJkiI2VSQ8++KB27typzz//vNQ+b+3n8mr2xn6+5pprtGPHDh09elTvvfeeEhISlJ6e7trvjX1cXs3t2rXzyj4+cOCAJk2apHXr1ql27drlHueNfQ3P4xYwrkiTJk1Us2bNUqN9ubm5pf4r01vVq1dPHTt21N69e+0upcLOPbVcnftdkkJDQxUREWF730+cOFEffvihPv30U7Vo0cLV7s39XF7NZfGGfvb391fr1q3VrVs3JSUlqVOnTvrrX//q1X1cXs1l8YY+3rZtm3Jzc9W1a1f5+fnJz89P6enpWrRokfz8/Fz96Y19Dc8jAOKK+Pv7q2vXrkpNTXVrT01NVa9evWyq6tIUFxdrz549Cg0NtbuUCouMjFRISIhbv586dUrp6enVpt8lKS8vTwcOHLCt7y3L0oMPPqj3339f69evV2RkpNt+b+zni9VcFrv7uSyWZam4uNgr+7g852ouizf08U033aTMzEzt2LHDtXXr1k333HOPduzYoZYtW1abvoYH2PTwCXxISkqKVatWLevVV1+1du/ebU2ePNmqV6+etW/fPrtLK9PUqVOttLQ06/vvv7c2b95s/e53v7MCAgK8rt7CwkIrIyPDysjIsCRZCxYssDIyMqwffvjBsizLmjdvnhUUFGS9//77VmZmpvWHP/zBCg0NtQoKCryy5sLCQmvq1KnWxo0braysLOvTTz+1YmJirObNm9tW8wMPPGAFBQVZaWlpVnZ2tms7fvy46xhv6+eL1eyN/Txr1ixrw4YNVlZWlrVz505r9uzZVo0aNax169ZZluV9fXyxmr2xj8vz66eALcs7+xr2IACiUjz//PNWRESE5e/vb3Xp0sVtSQpvM3ToUCs0NNSqVauWFRYWZg0ZMsTatWuX3WWV8umnn1qSSm0JCQmWZf2ypMOcOXOskJAQy+l0WjfeeKOVmZnptTUfP37cio+Pt5o2bWrVqlXLuuqqq6yEhARr//79ttVbVq2SrOTkZNcx3tbPF6vZG/t59OjRrutD06ZNrZtuuskV/izL+/rYsi5cszf2cXnOD4De2Newh8OyLMtz440AAACwG3MAAQAADEMABAAAMAwBEAAAwDAEQAAAAMMQAAEAAAxDAAQAADAMARAAAMAwBEBUmuLiYiUmJpb7U0neiJo9g5o9g5o9g5rhC1gIGpWmoKBAQUFBys/PV2BgoN3lVAg1ewY1ewY1ewY1wxcwAggAAGAYAiAAAIBh/OwuANXT2bNndfDgQQUEBMjhcEj65RbDr/+3OqBmz6Bmz6Bmz/CVmi3LUmFhocLCwlSjBuNBpmEOoMGWLFmiZ555RtnZ2Wrfvr0WLlyo3r17V+i9P/74o8LDw6u4QgBAVTtw4IBatGhhdxnwMEYADbVixQpNnjxZS5Ys0Q033KAXX3xRAwcO1O7du3XVVVdd9P0BAQEV+pz8/PwrLRUAUAUKCgoUHh5e4es5fAsjgIbq0aOHunTpoqVLl7ra2rZtq8GDByspKemi7z/3RNnF8NcLALwTTwabjZv+Bjp16pS2bdum+Ph4t/b4+Hht3LixzPcUFxeroKDAbQMAANUTAdBAP//8s0pKShQcHOzWHhwcrJycnDLfk5SUpKCgINfG/D8AAKovAqDBzj29e45lWaXazpk1a5by8/Nd24EDBzxRIgAAqAI8BGKgJk2aqGbNmqVG+3Jzc0uNCp7jdDrldDo9UR4AAKhijAAayN/fX127dlVqaqpbe2pqqnr16mVTVQAAwFMYATTUlClTNHz4cHXr1k0xMTF66aWXtH//fo0bN65SP6e8W8qXiqeJAQCoPARAQw0dOlR5eXl64oknlJ2drQ4dOuijjz5SRESE3aUBAIAqxjqAuCwVXQewsvDXFAAqF+sAmo05gAAAAIYhAAIAABiGAAgAAGAYAiAAAIBhCIAAAACGIQACAAAYhgCIK5Kfny/LssrdKovD4bjoBgAAKoYACAAAYBgCIAAAgGEIgAAAAIYhAAIAABiGAAgAAGAYAiAAAIBhCIAAAACGIQACAAAYxs/uAuDbKrIYdGUt4lyR81Tm4tQAAFRXjAACAAAYhgAIAABgGAIgAACAYQiAAAAAhiEAAgAAGIYACAAAYBgCIAAAgGEIgAAAAIZhIWjYjsWiAQDwLEYAAQAADEMABAAAMAwBEAAAwDAEQAAAAMMQAAEAAAxDAAQAADAMARAAAMAwBEAAAADDsBA0qgUWiwYAoPIwAmioxMREORwOty0kJMTusgAAgAcwAmiw9u3b69///rfrdc2aNW2sBgAAeAoB0GB+fn6M+gEAYCBuARts7969CgsLU2RkpO6++259//335R5bXFysgoICtw0AAFRPBEBD9ejRQ2+88YbWrl2rl19+WTk5OerVq5fy8vLKPD4pKUlBQUGuLTw83MMVAwCAyuKweJwRkoqKitSqVStNnz5dU6ZMKbW/uLhYxcXFrtcFBQUKDw9Xfn6+AgMDPVlquSrrKeCK4B8bANVdQUGBgoKCvOo6Ds9hDiAkSfXq1VPHjh21d+/eMvc7nU45nU4PVwUAAKoCt4Ah6ZcRvj179ig0NNTuUgAAQBUjABpq2rRpSk9PV1ZWlr744gvdeeedKigoUEJCgt2lXTbLsi66VZbz11AsawMAwFtxC9hQP/74o/7whz/o559/VtOmTdWzZ09t3rxZERERdpcGAACqGAHQUCkpKXaXAAAAbMItYAAAAMMQAAEAAAxDAAQAADAMARAAAMAwBEAAAADDEAABAAAMwzIwMEpFFoOurEWcK3IeflMYAGAHRgABAAAMQwAEAAAwDAEQAADAMARAAAAAwxAAAQAADEMABAAAMAwBEAAAwDAEQAAAAMOwEDRwHhaLBgD4OkYAAQAADEMABAAAMAwBEAAAwDAEQAAAAMMQAAEAAAxDAAQAADAMARAAAMAwBEAAAADDsBA0cBlYLBoAUJ0xAggAAGAYAiAAAIBhCIAAAACGIQACAAAYhgAIAABgGAIgAACAYQiAAAAAhiEAAgAAGIaFoIEqwmLRAABvxQigD9qwYYMGDRqksLAwORwOrVq1ym2/ZVlKTExUWFiY6tSpo7i4OO3atcueYgEAgMcRAH1QUVGROnXqpMWLF5e5f/78+VqwYIEWL16sLVu2KCQkRP3791dhYaGHKwUAAHbgFrAPGjhwoAYOHFjmPsuytHDhQj388MMaMmSIJGnZsmUKDg7W8uXLNXbsWE+WCgAAbMAIoGGysrKUk5Oj+Ph4V5vT6VRsbKw2btxY7vuKi4tVUFDgtgEAgOqJAGiYnJwcSVJwcLBbe3BwsGtfWZKSkhQUFOTawsPDq7ROAABQdQiAhjr/qVHLsi74JOmsWbOUn5/v2g4cOFDVJQIAgCrCHEDDhISESPplJDA0NNTVnpubW2pU8NecTqecTmeV1wcAAKoeI4CGiYyMVEhIiFJTU11tp06dUnp6unr16mVjZQAAwFMYAfRBx44d07fffut6nZWVpR07dqhRo0a66qqrNHnyZM2dO1dRUVGKiorS3LlzVbduXQ0bNszGqs3EYtEAADsQAH3Q1q1b1adPH9frKVOmSJISEhL0+uuva/r06Tpx4oTGjx+vI0eOqEePHlq3bp0CAgLsKhkAAHiQw+I/+XEZCgoKFBQUpPz8fAUGBtpdjk+rrBHAiuByAJiD67jZmAMIAABgGAIgAACAYQiAAAAAhiEAAgAAGIYACAAAYBgCIAAAgGFYBxDwciwWDQCobIwAAgAAGIYACAAAYBgCIAAAgGEIgAAAAIYhAAIAABiGAAgAAGAYAiAAAIBhCIAAAACGYSFowAewWDQA4FIwAggAAGAYAiAAAIBhCIAAAACGIQACAAAYhgAIAABgGAIgAACAYQiAAAAAhiEAAgAAGIaFoAFDsFg0AOAcRgABAAAMQwAEAAAwDAEQAADAMARAAAAAwxAAAQAADEMABAAAMAwBEAAAwDAEQAAAAMOwEDQAFxaLBgAzMALogzZs2KBBgwYpLCxMDodDq1atcts/cuRIORwOt61nz572FAsAADyOAOiDioqK1KlTJy1evLjcYwYMGKDs7GzX9tFHH3mwQgAAYCduAfuggQMHauDAgRc8xul0KiQkxEMVAQAAb8IIoKHS0tLUrFkztWnTRmPGjFFubu4Fjy8uLlZBQYHbBgAAqicCoIEGDhyot99+W+vXr9dzzz2nLVu2qG/fviouLi73PUlJSQoKCnJt4eHhHqwYAABUJofFY3Y+zeFwaOXKlRo8eHC5x2RnZysiIkIpKSkaMmRImccUFxe7BcSCggKFh4crPz9fgYGBlV02vFhlPQVcEVyegKpTUFCgoKAgruOGYg4gFBoaqoiICO3du7fcY5xOp5xOpwerAgAAVYVbwFBeXp4OHDig0NBQu0sBAAAewAigDzp27Ji+/fZb1+usrCzt2LFDjRo1UqNGjZSYmKg77rhDoaGh2rdvn2bPnq0mTZro9ttvt7FqVBcsFg0A1R8B0Adt3bpVffr0cb2eMmWKJCkhIUFLly5VZmam3njjDR09elShoaHq06ePVqxYoYCAALtKBgAAHsRDILgsTB7GhfCgCOD9uI6bjTmAAAAAhiEAAgAAGIYACAAAYBgCIAAAgGEIgF7i1VdfLbP9zJkzmjVrloerAQAAvowA6CWmTp2qO+64Q4cPH3a1ff3117r++uv1zjvv2FgZAADwNQRAL5GRkaFDhw6pY8eOSk1N1fPPP68uXbqoQ4cO2rFjh93lAZfEsqyLbpXF4XBcdAMAuGMhaC8RGRmpDRs26KGHHtKAAQNUs2ZNvfHGG7r77rvtLg0AAPgYRgC9yL/+9S/9/e9/V69evdSgQQO9/PLLOnjwoN1lAQAAH0MA9BJjx47V73//e02fPl0bNmzQzp075XQ61bFjR+YAAgCASsVPwXmJDh066O2331anTp3c2p9//nnNmDFDx44ds6mysvETQrhS/FwcYC+u42YjAHqJ4uJiOZ3OMvd98803uuaaazxc0YVx4cCVIgAC9uI6bjZuAXsJp9Op7777To888oj+8Ic/KDc3V5K0Zs0anTlzxubqAACALyEAeon09HR17NhRX3zxhd5//33XLd+dO3dqzpw5NlcHAAB8CQHQS8ycOVNPPfWUUlNT5e/v72rv06ePNm3aZGNlAADA17AOoJfIzMzU8uXLS7U3bdpUeXl5NlQEVK2KzMurrHmCFTkP8wQBmIQRQC/RoEEDZWdnl2rPyMhQ8+bNbagIAAD4KgKglxg2bJhmzJihnJwcORwOnT17Vv/7v/+radOmacSIEXaXBwAAfAgB0Ev8+c9/1lVXXaXmzZvr2LFjateunW688Ub16tVLjzzyiN3lAQAAH8I6gF7mu+++U0ZGhs6ePavOnTsrKirK7pLKxPpR8ATWCgSqDtdxs/EQiJdp1aqVWrVqZXcZAADAhxEAbTRlypQKH7tgwYIqrAQAAJiEAGijjIwMt9fbtm1TSUmJ62ff/u///k81a9ZU165d7SgPAAD4KAKgjT799FPXnxcsWKCAgAAtW7ZMDRs2lCQdOXJEo0aNUu/eve0qEQAA+CAeAvESzZs317p169S+fXu39q+++krx8fE6ePCgTZWVjcnD8BaefFBE4mER+A6u42ZjGRgvUVBQoEOHDpVqz83NVWFhoQ0VAQAAX0UA9BK33367Ro0apXfffVc//vijfvzxR7377ru67777NGTIELvLAwAAPoQ5gF7ihRde0LRp03Tvvffq9OnTkiQ/Pz/dd999euaZZ2yuDgAA+BLmAHqZoqIifffdd7IsS61bt1a9evXsLqlMzB2Bt2AOIHB5uI6bjRFAL1OvXj1FR0fbXQYAAPBhBEAvUVRUpHnz5umTTz5Rbm6uzp4967b/+++/t6kyAADgawiAXuL+++9Xenq6hg8frtDQUI/f1gIAAOYgAHqJjz/+WKtXr9YNN9xgdykAAMDHEQC9RMOGDdWoUSO7ywCqnYo8lFGZI+oVORcPigDwdqwD6CWefPJJPfbYYzp+/PgVnyspKUndu3dXQECAmjVrpsGDB+ubb75xO8ayLCUmJiosLEx16tRRXFycdu3adcWfDQAAvB8B0Es899xzWrt2rYKDg9WxY0d16dLFbbsU6enpmjBhgjZv3qzU1FSdOXNG8fHxKioqch0zf/58LViwQIsXL9aWLVsUEhKi/v3786sjAAAYgFvAXmLw4MGVdq41a9a4vU5OTlazZs20bds23XjjjbIsSwsXLtTDDz/s+pWRZcuWKTg4WMuXL9fYsWMrrRYAAOB9CIBeYs6cOVV27vz8fElyzTHMyspSTk6O4uPjXcc4nU7FxsZq48aNZQbA4uJiFRcXu14XFBRUWb0AAKBqcQvYx1mWpSlTpug3v/mNOnToIEnKycmRJAUHB7sdGxwc7Np3vqSkJAUFBbm28PDwqi0cAABUGUYAbdSoUSP93//9n5o0aaKGDRte8OnCw4cPX9ZnPPjgg9q5c6c+//zzUvvO/zzLssqtYdasWZoyZYrrdUFBASEQAIBqigBoo7/85S8KCAiQJC1cuLDSzz9x4kR9+OGH2rBhg1q0aOFqDwkJkfTLSGBoaKirPTc3t9So4DlOp1NOp7PSawQAAJ5HALRRQkJCmX++UpZlaeLEiVq5cqXS0tIUGRnptj8yMlIhISFKTU1V586dJUmnTp1Senq6nn766UqrAwAAeCcCoA+aMGGCli9frg8++EABAQGueX1BQUGqU6eOHA6HJk+erLlz5yoqKkpRUVGaO3eu6tatq2HDhtlcPVD5WCwaANwRAH3Q0qVLJUlxcXFu7cnJyRo5cqQkafr06Tpx4oTGjx+vI0eOqEePHlq3bp3rljQAAPBdDov/DMVlKCgoUFBQkPLz8xUYGGh3OcAVq8wRwIrg0gu7cR03G8vAAAAAGIYA6CVSU1Mr5XeAAQAALoY5gF7ijjvuUHFxsbp27arY2FjFxcXphhtuUP369e0uDQAA+BhGAL3EkSNHlJaWpltvvVUZGRm666671KhRI/Xs2VMzZ860uzwAAOBDeAjES3311Vd69tln9fbbb+vs2bMqKSmxuyQ3TB6Gr+EhEJiG67jZuAXsJfbs2aP09HSlpaUpPT1dJSUl+s1vfqPnnntOsbGxdpcHAAB8CAHQS7Rv315NmzbV5MmT9eijj6p9+/Z2lwQAAHwUAdBL/OlPf9KGDRuUmJioVatWKS4uTnFxcerduzcPggAeUNFbspV1q5hfCwFgJ+YAepmjR4/qs88+U3p6utLT05WZmanrrrtOmzdvtrs0N8wdgak8OVeQyzOqEtdxs/EUsJc5e/aszpw5o1OnTqm4uFinT5/Wvn377C4LAAD4EAKgl5g0aZI6deqkZs2aaezYsTp48KD++Mc/6j//+Y9ycnLsLg8AAPgQ5gB6iZ9++kljxoxRXFycOnToYHc5AADAhxEAvcS7775rdwkAAMAQBEAv8t1332nhwoXas2ePHA6H2rZtq0mTJqlVq1Z2lwYAAHwIcwC9xNq1a9WuXTt9+eWXio6OVocOHfTFF1+offv2Sk1Ntbs8AADgQ1gGxkt07txZN998s+bNm+fWPnPmTK1bt07bt2+3qbKysXwATMUyMPAVXMfNxgigl9izZ4/uu+++Uu2jR4/W7t27bagIQFksy7roVlkcDsdFNwC4HARAL9G0aVPt2LGjVPuOHTvUrFkzzxcEAAB8Fg+BeIkxY8boj3/8o77//nv16tVLDodDn3/+uZ5++mlNnTrV7vIAAIAPYQ6gl7AsSwsXLtRzzz2ngwcPSpLCwsL0P//zP/rTn/7kdbd6mDsClI95gqgOuI6bjQDohQoLCyVJAQEBkn5ZJLp58+Z2llQKFw6gfARAVAdcx83GHEAvFBAQoICAAOXk5GjixIlq3bq13SUBAAAfQgC02dGjR3XPPfeoadOmCgsL06JFi3T27Fk99thjatmypTZv3qzXXnvN7jIBAIAP4SEQm82ePVsbNmxQQkKC1qxZo4ceekhr1qzRyZMn9fHHHys2NtbuEgEAgI8hANps9erVSk5OVr9+/TR+/Hi1bt1abdq00cKFC+0uDQAA+CgCoM0OHjyodu3aSZJatmyp2rVr6/7777e5KgBXoiIPZlTWgyIVOQ8PigA4H3MAbXb27FnVqlXL9bpmzZqqV6+ejRUBAABfxwigzSzL0siRI+V0OiVJJ0+e1Lhx40qFwPfff9+O8gAAgA8iANosISHB7fW9995rUyUAAMAUBECbJScn210CAAAwDHMAAQAADEMABAAAMAwBEAAAwDAEQAAAAMMQAH1QUlKSunfvroCAADVr1kyDBw/WN99843bMyJEj5XA43LaePXvaVDFgHsuyLrpVlvP/WS9rA2AWAqAPSk9P14QJE7R582alpqbqzJkzio+PV1FRkdtxAwYMUHZ2tmv76KOPbKoYAAB4EsvA+KA1a9a4vU5OTlazZs20bds23Xjjja52p9OpkJAQT5cHAABsxgigAfLz8yVJjRo1cmtPS0tTs2bN1KZNG40ZM0a5ubnlnqO4uFgFBQVuGwAAqJ4cFr8S7tMsy9Jtt92mI0eO6LPPPnO1r1ixQvXr11dERISysrL06KOP6syZM9q2bZvrZ+l+LTExUY8//nip9vz8fAUGBlbpdwBM5cm5efyrwDwFBQUKCgriOm4oAqCPmzBhglavXq3PP/9cLVq0KPe47OxsRUREKCUlRUOGDCm1v7i4WMXFxa7XBQUFCg8P58IBVCECIKoSAdBszAH0YRMnTtSHH36oDRs2XDD8SVJoaKgiIiK0d+/eMvc7nc4yRwYBAED1QwD0QZZlaeLEiVq5cqXS0tIUGRl50ffk5eXpwIEDCg0N9UCFAADATjwE4oMmTJigt956S8uXL1dAQIBycnKUk5OjEydOSJKOHTumadOmadOmTdq3b5/S0tI0aNAgNWnSRLfffrvN1QMAgKrGHEAfVN68oeTkZI0cOVInTpzQ4MGDlZGRoaNHjyo0NFR9+vTRk08+qfDw8Ap9BnNHAO/APEFcLq7jZuMWsA+62EW6Tp06Wrt2rYeqAQAA3oZbwAAAAIYhAAIAABiGAAgAAGAYAiAAAIBhCIAAAACGIQACAAAYhgAIAABgGNYBBIBqrCKLM1fWYtEVOQ+LRQPVAyOAAAAAhiEAAgAAGIYACAAAYBgCIAAAgGEIgAAAAIYhAAIAABiGAAgAAGAYAiAAAIBhWAgaAHwci0UDOB8jgAAAAIYhAAIAABiGAAgAAGAYAiAAAIBhCIAAAACGIQACAAAYhgAIAABgGAIgAACAYVgIGgDAYtGAYRgBBAAAMAwBEAAAwDAEQAAAAMMQAAEAAAxDAAQAADAMARAAAMAwBEAAAADDEAABAAAMQwD0QUuXLlV0dLQCAwMVGBiomJgYffzxx679lmUpMTFRYWFhqlOnjuLi4rRr1y4bKwZQHViWddGtsjgcjotuAC4fAdAHtWjRQvPmzdPWrVu1detW9e3bV7fddpsr5M2fP18LFizQ4sWLtWXLFoWEhKh///4qLCy0uXIAAOAJDovf2zFCo0aN9Mwzz2j06NEKCwvT5MmTNWPGDElScXGxgoOD9fTTT2vs2LEVOl9BQYGCgoKUn5+vwMDAqiwdQDXiyZE5/vV1ZbiOm40RQB9XUlKilJQUFRUVKSYmRllZWcrJyVF8fLzrGKfTqdjYWG3cuNHGSgEAgKf42V0AqkZmZqZiYmJ08uRJ1a9fXytXrlS7du1cIS84ONjt+ODgYP3www/lnq+4uFjFxcWu1wUFBVVTOAAAqHKMAPqoa665Rjt27NDmzZv1wAMPKCEhQbt373btP/82jWVZF7x1k5SUpKCgINcWHh5eZbUDAICqRQD0Uf7+/mrdurW6deumpKQkderUSX/9618VEhIiScrJyXE7Pjc3t9So4K/NmjVL+fn5ru3AgQNVWj8AAKg6BEBDWJal4uJiRUZGKiQkRKmpqa59p06dUnp6unr16lXu+51Op2tZmXMbAAConpgD6INmz56tgQMHKjw8XIWFhUpJSVFaWprWrFkjh8OhyZMna+7cuYqKilJUVJTmzp2runXratiwYXaXDgAAPIAA6IMOHTqk4cOHKzs7W0FBQYqOjtaaNWvUv39/SdL06dN14sQJjR8/XkeOHFGPHj20bt06BQQE2Fw5gOquIkuzVNZSMRU5D0vFAGVjHUBcFtaPAnC5WCvQO3AdNxtzAAEAAAxDAAQAADAMARAAAMAwBEAAAADDEAABAAAMQwAEAAAwDAEQAADAMCwEDQDwKBaLBuzHCCAAAIBhCIAAAACGIQACAAAYhgAIAABgGAIgAACAYQiAAAAAhiEAAgAAGIYACAAAYBgWggYAeB0WiwaqFiOAAAAAhiEAAgAAGIYACAAAYBgCIAAAgGEIgAAAAIYhAAIAABiGAAgAAGAYAiAAAIBhWAgaAFAtsVg0cPkYAQQAADAMARAAAMAwBEAAAADDEAABAAAMQwAEAAAwDAEQAADAMARAAAAAwxAAAQAADEMA9EFLly5VdHS0AgMDFRgYqJiYGH388ceu/SNHjpTD4XDbevbsaWPFAFA1LMu66FZZzr+ulrUB3oJfAvFBLVq00Lx589S6dWtJ0rJly3TbbbcpIyND7du3lyQNGDBAycnJrvf4+/vbUisAAPA8AqAPGjRokNvrP//5z1q6dKk2b97sCoBOp1MhISF2lAcAAGzGLWAfV1JSopSUFBUVFSkmJsbVnpaWpmbNmqlNmzYaM2aMcnNzbawSAAB4EiOAPiozM1MxMTE6efKk6tevr5UrV6pdu3aSpIEDB+quu+5SRESEsrKy9Oijj6pv377atm2bnE5nmecrLi5WcXGx63VBQYFHvgcAAKh8DqsyZ8DCa5w6dUr79+/X0aNH9d577+mVV15Renq6KwT+WnZ2tiIiIpSSkqIhQ4aUeb7ExEQ9/vjjpdrz8/MVGBhY6fUDgKd48uEMb/pXbkFBgYKCgriOG4oAaIh+/fqpVatWevHFF8vcHxUVpfvvv18zZswoc39ZI4Dh4eFcOABUewRAruMm4hawISzLcgtwv5aXl6cDBw4oNDS03Pc7nc5ybw8DAIDqhQDog2bPnq2BAwcqPDxchYWFSklJUVpamtasWaNjx44pMTFRd9xxh0JDQ7Vv3z7Nnj1bTZo00e2332536QAAwAMIgD7o0KFDGj58uLKzsxUUFKTo6GitWbNG/fv314kTJ5SZmak33nhDR48eVWhoqPr06aMVK1YoICDA7tIBwOMqclu2sm4TV+Q83nSbGL6LOYC4LMwdAWASX5wnyHXcbKwDCAAAYBgCIAAAgGEIgAAAAIYhAAIAABiGAAgAAGAYAiAAAIBhCIAAAACGYSFoAAAugsWi4WsYAQQAADAMARAAAMAwBEAAAADDEAABAAAMQwAEAAAwDAEQAADAMARAAAAAwxAAAQAADMNC0AAAVAIWi0Z1wgggAACAYQiAAAAAhiEAAgAAGIYACAAAYBgCIAAAgGEIgAAAAIYhAAIAABiGAAgAAGAYFoIGAMBDvG2xaJiLEUAAAADDEAABAAAMQwAEAAAwDAEQAADAMARAAAAAwxAAAQAADEMABAAAMAwBEAAAwDAEQB+XlJQkh8OhyZMnu9osy1JiYqLCwsJUp04dxcXFadeuXfYVCQBwsSyrUjbgQgiAPmzLli166aWXFB0d7dY+f/58LViwQIsXL9aWLVsUEhKi/v37q7Cw0KZKAQCAJxEAfdSxY8d0zz336OWXX1bDhg1d7ZZlaeHChXr44Yc1ZMgQdejQQcuWLdPx48e1fPlyGysGAACeQgD0URMmTNAtt9yifv36ubVnZWUpJydH8fHxrjan06nY2Fht3LjR02UCAAAb+NldACpfSkqKtm/fri1btpTal5OTI0kKDg52aw8ODtYPP/xQ7jmLi4tVXFzsel1QUFBJ1QIAAE9jBNDHHDhwQJMmTdJbb72l2rVrl3ucw+Fwe21ZVqm2X0tKSlJQUJBrCw8Pr7SaAQCAZxEAfcy2bduUm5urrl27ys/PT35+fkpPT9eiRYvk5+fnGvk7NxJ4Tm5ubqlRwV+bNWuW8vPzXduBAweq9HsAAICqwy1gH3PTTTcpMzPTrW3UqFG69tprNWPGDLVs2VIhISFKTU1V586dJUmnTp1Senq6nn766XLP63Q65XQ6q7R2AADgGQRAHxMQEKAOHTq4tdWrV0+NGzd2tU+ePFlz585VVFSUoqKiNHfuXNWtW1fDhg2r8OecW2OKuYAAUL2xZqCZCIAGmj59uk6cOKHx48fryJEj6tGjh9atW6eAgIAKn+PcmoHMBQSA6q2wsFBBQUF2lwEPc1hEf1yGs2fP6uDBgwoICHA9PFJQUKDw8HAdOHBAgYGBNldYMdTsGdTsGdTsGb5Ss2VZKiwsVFhYmGrU4JEA0zACiMtSo0YNtWjRosx9gYGB1eaieA41ewY1ewY1e4Yv1MzIn7mI/AAAAIYhAAIAABiGAIhK43Q6NWfOnGq1XAw1ewY1ewY1ewY1wxfwEAgAAIBhGAEEAAAwDAEQAADAMARAAAAAwxAAAQAADEMABFAtJCYm6rrrrrO7jDKlpaXJ4XDo6NGjV3SekSNHavDgwZVSEwBcCAEQQJXLycnRxIkT1bJlSzmdToWHh2vQoEH65JNP7C6tUvTq1UvZ2dn8qgKAaoOfggNQpfbt26cbbrhBDRo00Pz58xUdHa3Tp09r7dq1mjBhgr7++mu7S7xi/v7+CgkJsbsMAKgwRgABVKnx48fL4XDoyy+/1J133qk2bdqoffv2mjJlijZv3uw6bv/+/brttttUv359BQYG6ve//70OHTpU7nnj4uI0efJkt7bBgwdr5MiRrtdXX321nnrqKY0YMUL169dXRESEPvjgA/33v/91fVbHjh21detW13tef/11NWjQQGvXrlXbtm1Vv359DRgwQNnZ2eXWcv4t4Iqco6SkRFOmTFGDBg3UuHFjTZ8+Xecvy2pZlubPn6+WLVuqTp066tSpk959913Xvn79+mnAgAGu9x09elRXXXWVHn744XJrBQCJAAigCh0+fFhr1qzRhAkTVK9evVL7GzRoIOmXMDN48GAdPnxY6enpSk1N1XfffaehQ4decQ1/+ctfdMMNNygjI0O33HKLhg8frhEjRujee+/V9u3b1bp1a40YMcItfB0/flzPPvus3nzzTW3YsEH79+/XtGnTLulzL3aO5557Tq+99ppeffVVff755zp8+LBWrlzpdo5HHnlEycnJWrp0qXbt2qWHHnpI9957r9LT0+VwOLRs2TJ9+eWXWrRokSRp3LhxCg4OVmJi4uV3GAAjcAsYQJX59ttvZVmWrr322gse9+9//1s7d+5UVlaWwsPDJUlvvvmm2rdvry1btqh79+6XXcNvf/tbjR07VpL02GOPaenSperevbvuuusuSdKMGTMUExOjQ4cOuW7jnj59Wi+88IJatWolSXrwwQf1xBNPXNLnXuwcCxcu1KxZs3THHXdIkl544QWtXbvWtb+oqEgLFizQ+vXrFRMTI0lq2bKlPv/8c7344ouKjY1V8+bN9eKLL2r48OE6dOiQ/vnPfyojI0O1atW6nK4CYBACIIAqc25UzeFwXPC4PXv2KDw83BX+JKldu3Zq0KCB9uzZc0UBMDo62vXn4OBgSVLHjh1LteXm5roCYN26dV3BTZJCQ0OVm5t7SZ97oXPk5+crOzvbFewkyc/PT926dXP12e7du3Xy5En179/f7bynTp1S586dXa/vuusurVy5UklJSVq6dKnatGlzSXUCMBMBEECViYqKksPh0J49ey64vIllWWWGxPLaJalGjRql5sydPn261HG/Hg07d66y2s6ePVvme84dc6k/m36l5zhXz+rVq9W8eXO3fU6n0/Xn48ePa9u2bapZs6b27t17STUCMBdzAAFUmUaNGunmm2/W888/r6KiolL7zz000a5dO+3fv18HDhxw7du9e7fy8/PVtm3bMs/dtGnTUg9VfPXVV5X7BapIUFCQQkND3R6COXPmjLZt2+Z63a5dOzmdTu3fv1+tW7d22349Ujp16lTVqFFDH3/8sRYtWqT169d79LsAqJ4IgACq1JIlS1RSUqLrr79e7733nvbu3as9e/Zo0aJFrlug/fr1U3R0tO655x5t375dX375pUaMGKHY2Fh169atzPP27dtXq1ev1urVq/X1119r/PjxV7wQsydNmjRJ8+bN08qVK8usPyAgQNOmTdNDDz2kZcuW6bvvvlNGRoaef/55LVu2TNIvo4Ovvfaa3n77bfXv318zZ85UQkKCjhw5YtO3AlBdEAABVKnIyEht375dffr00dSpU9WhQwf1799fn3zyiZYuXSrpl9ujq1atUsOGDXXjjTeqX79+atmypVasWFHueUePHq2EhARXUIyMjFSfPn089bWu2NSpUzVixAiNHDlSMTExCggI0O233+52zJNPPqnHHntMSUlJatu2rW6++Wb985//VGRkpP773//qvvvuU2Jiorp06SJJmjNnjsLCwjRu3Dg7vhKAasRhXerEFgAAAFRrjAACAAAYhgAIAABgGAIgAACAYQiAAAAAhiEAAgAAGIYACAAAYBgCIAAAgGEIgAAAAIYhAAIAABiGAAgAAGAYAiAAAIBhCIAAAACGIQACAAAYhgAIAABgGAIgAACAYQiAAAAAhiEAAgAAGIYACAAAYBgCIAAAgGEIgAAAAIYhAAIAABiGAAgAAGAYAiAAAIBhCIAAAACGIQACAAAYhgAIAABgGAIgAACAYQiAAAAAhiEAAgAAGIYACAAAYJj/D14DgTsQU00UAAAAAElFTkSuQmCC' width=640.0/>\n",
       "            </div>\n",
       "        "
      ],
      "text/plain": [
       "Canvas(toolbar=Toolbar(toolitems=[('Home', 'Reset original view', 'home', 'home'), ('Back', 'Back to previous …"
      ]
     },
     "metadata": {},
     "output_type": "display_data"
    }
   ],
   "source": [
    "M,R = mat_and_r(c0,k0,phi0,phi0,h0,120,dx)\n",
    "\n",
    "\n",
    "fig = plt.figure()\n",
    "ax = plt.subplot(111)\n",
    "plt.spy(M.detach().numpy());\n",
    "ax.set_title('Fill pattern of matrix');\n",
    "ax.set_ylabel('Row index');\n",
    "ax.set_xlabel('Column index');\n",
    "plt.show()\n"
   ]
  },
  {
   "cell_type": "code",
   "execution_count": null,
   "metadata": {},
   "outputs": [],
   "source": [
    "### ###\n"
   ]
  }
 ],
 "metadata": {
  "kernelspec": {
   "display_name": "pinn",
   "language": "python",
   "name": "python3"
  },
  "language_info": {
   "codemirror_mode": {
    "name": "ipython",
    "version": 3
   },
   "file_extension": ".py",
   "mimetype": "text/x-python",
   "name": "python",
   "nbconvert_exporter": "python",
   "pygments_lexer": "ipython3",
   "version": "3.11.9"
  }
 },
 "nbformat": 4,
 "nbformat_minor": 2
}
